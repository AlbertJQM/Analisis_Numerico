{
  "nbformat": 4,
  "nbformat_minor": 0,
  "metadata": {
    "colab": {
      "name": "MAT-156_SistemasDeEcuaciones.ipynb",
      "provenance": []
    },
    "kernelspec": {
      "name": "python3",
      "display_name": "Python 3"
    },
    "language_info": {
      "name": "python"
    }
  },
  "cells": [
    {
      "cell_type": "markdown",
      "metadata": {
        "id": "3ohpdRlPl04S"
      },
      "source": [
        "# SISTEMAS DE ECUACIONES\n",
        "\n",
        "---\n",
        "# MÉTODO GAUSS - SEIDEL\n",
        "Vamos a emplear los métodos resolviendo el siguiente sistema de ecuaciones:\n",
        "\n",
        "![image.png](data:image/png;base64,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)\n",
        "\n",
        "Las soluciones verdaderas de dicho sistema son los siguientes:\n",
        "\n",
        "![image.png](data:image/png;base64,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)\n"
      ]
    },
    {
      "cell_type": "code",
      "metadata": {
        "colab": {
          "base_uri": "https://localhost:8080/"
        },
        "id": "v3Z___SalVHR",
        "outputId": "dacb0189-7f63-4ece-893e-557c1b77b6cf"
      },
      "source": [
        "import numpy as np\n",
        "\n",
        "def GaussSeidel(n, A, b, X):\n",
        "    comp = np.zeros((n))\n",
        "    error = []\n",
        "    \n",
        "    print(\"Metodo Gauss-Seidel\")\n",
        "    print(\"Introducir la matriz de coeficientes: \")\n",
        "    for r in range(0, n):\n",
        "        for c in range(0, n):\n",
        "            A[(r), (c)] = float(input(\"Elemento A[\" + str(r + 1) + str(c + 1) + \"]: \"))\n",
        "        b[(r)] = float(input(\"b[\" + str(r + 1) + \"]: \"))\n",
        "    tol = float(input(\"Tolerancia: \"))\n",
        "    \n",
        "    print(\"Solucion con NumPy: \", np.linalg.solve(A, b))\n",
        "    \n",
        "    k = 0\n",
        "    while(True):\n",
        "        suma = 0\n",
        "        k += 1\n",
        "        for r in range(0, n):\n",
        "            suma = 0\n",
        "            for c in range(0, n):\n",
        "                if(c != r):\n",
        "                    suma += A[r, c] * X[c]\n",
        "            X[r] = (b[r] - suma)/A[r,r]\n",
        "        \n",
        "        del error[:] #vaciar el contenido de la lista\n",
        "        #Comprobacion\n",
        "        for r in range(0, n):\n",
        "            suma = 0\n",
        "            for c in range(0, n):\n",
        "                suma += A[r, c] * X[c]\n",
        "            comp[r] = suma\n",
        "            dif = abs(comp[r] - b[r])\n",
        "            error.append(dif)\n",
        "        if(all(i <= tol for i in error)):\n",
        "            break\n",
        "    for i in range(0, n):\n",
        "        print(\"X[\", (i + 1), \"] = \", X[i])\n",
        "\n",
        "n = int(input(\"Numero de ecuaciones e incognitas: \"))\n",
        "A = np.zeros((n, n))\n",
        "X = np.zeros((n))\n",
        "b = np.zeros((n))\n",
        "GaussSeidel(n, A, b, X)"
      ],
      "execution_count": null,
      "outputs": [
        {
          "output_type": "stream",
          "text": [
            "Numero de ecuaciones e incognitas: 3\n",
            "Metodo Gauss-Seidel\n",
            "Introducir la matriz de coeficientes: \n",
            "Elemento A[11]: 3\n",
            "Elemento A[12]: -0.1\n",
            "Elemento A[13]: -0.2\n",
            "b[1]: 7.85\n",
            "Elemento A[21]: 0.1\n",
            "Elemento A[22]: 7\n",
            "Elemento A[23]: -0.3\n",
            "b[2]: -19.3\n",
            "Elemento A[31]: 0.3\n",
            "Elemento A[32]: -0.2\n",
            "Elemento A[33]: 10\n",
            "b[3]: 71.4\n",
            "Tolerancia: 0.0005\n",
            "Solucion con NumPy:  [ 3.  -2.5  7. ]\n",
            "X[ 1 ] =  3.0000318979108087\n",
            "X[ 2 ] =  -2.499987992353051\n",
            "X[ 3 ] =  6.999999283215615\n"
          ],
          "name": "stdout"
        }
      ]
    },
    {
      "cell_type": "markdown",
      "metadata": {
        "id": "oVO7Yd7wmKQI"
      },
      "source": [
        "# MÉTODO JACOBI"
      ]
    },
    {
      "cell_type": "code",
      "metadata": {
        "colab": {
          "base_uri": "https://localhost:8080/"
        },
        "id": "9pFNFCUgmOBH",
        "outputId": "9e944510-c8d6-4a0a-d7bf-6b793295660b"
      },
      "source": [
        "import numpy as np\n",
        "\n",
        "def Jacobi(n, A, b, X):\n",
        "    comp = np.zeros((n))\n",
        "    resx = np.zeros((n))\n",
        "    error = []\n",
        "    \n",
        "    print(\"Metodo Jacobi\")\n",
        "    print(\"Introducir la matriz de coeficientes: \")\n",
        "    for r in range(0, n):\n",
        "        for c in range(0, n):\n",
        "            A[(r), (c)] = float(input(\"Elemento A[\" + str(r + 1) + str(c + 1) + \"]: \"))\n",
        "        b[(r)] = float(input(\"b[\" + str(r + 1) + \"]: \"))\n",
        "    tol = float(input(\"Tolerancia: \"))\n",
        "    \n",
        "    print(\"Solucion con NumPy: \", np.linalg.solve(A, b))\n",
        "    \n",
        "    k = 0\n",
        "    while(True):\n",
        "        suma = 0\n",
        "        k += 1\n",
        "        for r in range(0, n):\n",
        "            suma = 0\n",
        "            for c in range(0, n):\n",
        "                if(c != r):\n",
        "                    suma += A[r, c] * X[c]\n",
        "            resx[r] = (b[r] - suma)/A[r,r]        \n",
        "        del error[:] #vaciar el contenido de la lista\n",
        "        X = resx\n",
        "        #Comprobacion\n",
        "        for r in range(0, n):\n",
        "            suma = 0\n",
        "            for c in range(0, n):\n",
        "                suma += A[r, c] * X[c]\n",
        "            comp[r] = suma\n",
        "            dif = abs(comp[r] - b[r])\n",
        "            error.append(dif)\n",
        "        if(all(i <= tol for i in error)):\n",
        "            break\n",
        "    for i in range(0, n):\n",
        "        print(\"X[\", (i + 1), \"] = \", X[i])\n",
        "\n",
        "n = int(input(\"Numero de ecuaciones e incognitas: \"))\n",
        "A = np.zeros((n, n))\n",
        "X = np.zeros((n))\n",
        "b = np.zeros((n))\n",
        "Jacobi(n, A, b, X)"
      ],
      "execution_count": null,
      "outputs": [
        {
          "output_type": "stream",
          "text": [
            "Numero de ecuaciones e incognitas: 3\n",
            "Metodo Jacobi\n",
            "Introducir la matriz de coeficientes: \n",
            "Elemento A[11]: 3\n",
            "Elemento A[12]: -0.1\n",
            "Elemento A[13]: -0.2\n",
            "b[1]: 7.85\n",
            "Elemento A[21]: 0.1\n",
            "Elemento A[22]: 7\n",
            "Elemento A[23]: -0.3\n",
            "b[2]: -19.3\n",
            "Elemento A[31]: 0.3\n",
            "Elemento A[32]: -0.2\n",
            "Elemento A[33]: 10\n",
            "b[3]: 71.4\n",
            "Tolerancia: 0.0005\n",
            "Solucion con NumPy:  [ 3.  -2.5  7. ]\n",
            "X[ 1 ] =  2.9999996297373674\n",
            "X[ 2 ] =  -2.5000002586579337\n",
            "X[ 3 ] =  7.000000005934721\n"
          ],
          "name": "stdout"
        }
      ]
    }
  ]
}