{
  "nbformat": 4,
  "nbformat_minor": 0,
  "metadata": {
    "colab": {
      "name": "MAT-156_EcuacionesDiferenciales.ipynb",
      "provenance": []
    },
    "kernelspec": {
      "name": "python3",
      "display_name": "Python 3"
    },
    "language_info": {
      "name": "python"
    }
  },
  "cells": [
    {
      "cell_type": "markdown",
      "metadata": {
        "id": "XRhX3f26hwOd"
      },
      "source": [
        "# ECUACIONES DIFERENCIALES ORDINARIAS\n",
        "\n",
        "---\n",
        "# EULER\n"
      ]
    },
    {
      "cell_type": "code",
      "metadata": {
        "colab": {
          "base_uri": "https://localhost:8080/"
        },
        "id": "yp_JgO4dhaaj",
        "outputId": "5c57d3cb-43b0-456f-ba92-624252498af0"
      },
      "source": [
        "import numpy as np\n",
        "import pandas as pd\n",
        "\n",
        "def f(t, y):\n",
        "    return np.cos(2 * t) + np.sin(3 * t)\n",
        "\n",
        "def Euler(x, y, xf, n):\n",
        "    res = pd.DataFrame(columns = ['#', 'x' , 'y', 'h'])\n",
        "    h = (xf - x)/n\n",
        "    res.loc[0]=[0, x, y, h]\n",
        "    for i in range(n):\n",
        "        y = y + f(x, y) * h\n",
        "        x = x + h\n",
        "        res.loc[i+1]=[i+1, x, y, '']\n",
        "    print(res)\n",
        "Euler(0, 1, 1, 100)\n",
        "\n",
        "#aprox y(1) = 2.124289774138598"
      ],
      "execution_count": 5,
      "outputs": [
        {
          "output_type": "stream",
          "text": [
            "         #     x         y     h\n",
            "0      0.0  0.00  1.000000  0.01\n",
            "1      1.0  0.01  1.010000      \n",
            "2      2.0  0.02  1.020298      \n",
            "3      3.0  0.03  1.030890      \n",
            "4      4.0  0.04  1.041770      \n",
            "..     ...   ...       ...   ...\n",
            "96    96.0  0.96  2.130502      \n",
            "97    97.0  0.97  2.129667      \n",
            "98    98.0  0.98  2.128353      \n",
            "99    99.0  0.99  2.126561      \n",
            "100  100.0  1.00  2.124290      \n",
            "\n",
            "[101 rows x 4 columns]\n"
          ],
          "name": "stdout"
        }
      ]
    },
    {
      "cell_type": "markdown",
      "metadata": {
        "id": "eoLlK9jkiCKs"
      },
      "source": [
        "# HEUN"
      ]
    },
    {
      "cell_type": "code",
      "metadata": {
        "colab": {
          "base_uri": "https://localhost:8080/"
        },
        "id": "GpK-AihTiFc0",
        "outputId": "068c3230-44df-46af-d83c-1962234f0b68"
      },
      "source": [
        "import numpy as np\n",
        "import pandas as pd\n",
        "\n",
        "def f(t, y):\n",
        "    return np.cos(2 * t) + np.sin(3 * t)\n",
        "\n",
        "def Heun(x, y, xf, n):\n",
        "    res = pd.DataFrame(columns = ['#', 'x' , 'y', 'k1', 'k2', 'h'])\n",
        "    k1 = 0\n",
        "    k2 = 0\n",
        "    h = (xf - x)/n\n",
        "    res.loc[0]=[0, x, y, k1, k2, h]\n",
        "    for i in range(n):\n",
        "        k1 = f(x, y)\n",
        "        k2 = f(x + h, y + (k1 * h))\n",
        "        y = y + (h/2)*(k1 + k2)\n",
        "        x = x + h\n",
        "        res.loc[i+1]=[i+1, x, y, k1, k2, '']\n",
        "    print(res)\n",
        "Heun(0, 1, 1, 10)\n",
        "\n",
        "#aprox y(1) = 2.11148057886752"
      ],
      "execution_count": 9,
      "outputs": [
        {
          "output_type": "stream",
          "text": [
            "       #    x         y        k1        k2    h\n",
            "0    0.0  0.0  1.000000  0.000000  0.000000  0.1\n",
            "1    1.0  0.1  1.113779  1.000000  1.275587     \n",
            "2    2.0  0.2  1.251844  1.275587  1.485703     \n",
            "3    3.0  0.3  1.406562  1.485703  1.608663     \n",
            "4    4.0  0.4  1.568433  1.608663  1.628746     \n",
            "5    5.0  0.5  1.726760  1.628746  1.537797     \n",
            "6    6.0  0.6  1.870460  1.537797  1.336205     \n",
            "7    7.0  0.7  1.988929  1.336205  1.033177     \n",
            "8    8.0  0.8  2.072901  1.033177  0.646264     \n",
            "9    9.0  0.9  2.115223  0.646264  0.200178     \n",
            "10  10.0  1.0  2.111481  0.200178 -0.275027     \n"
          ],
          "name": "stdout"
        }
      ]
    },
    {
      "cell_type": "markdown",
      "metadata": {
        "id": "82Us5wfUiGz0"
      },
      "source": [
        "# RUNGE KUTTA DE 4TO ORDEN"
      ]
    },
    {
      "cell_type": "code",
      "metadata": {
        "colab": {
          "base_uri": "https://localhost:8080/"
        },
        "id": "tmHIvp8kiXpN",
        "outputId": "f30bf732-9b28-4793-b02b-1d8155824f52"
      },
      "source": [
        "import numpy as np\n",
        "import pandas as pd\n",
        "\n",
        "def f(t, y):\n",
        "    return np.cos(2 * t) + np.sin(3 * t)\n",
        "\n",
        "def RungeKutta4(x, y, xf, n):\n",
        "    res = pd.DataFrame(columns = ['#', 'x' , 'y', 'k1', 'k2', 'k3', 'k4', 'h'])\n",
        "    k1 = 0\n",
        "    k2 = 0\n",
        "    k3 = 0\n",
        "    k4 = 0\n",
        "    h = (xf - x)/n\n",
        "    res.loc[0]=[0, x, y, k1, k2, k3, k4, h]\n",
        "    for i in range(n):\n",
        "        k1 = f(x, y)\n",
        "        k2 = f(x + (1./2)*h, y + (1./2)*(k1 * h))\n",
        "        k3 = f(x + (1./2)*h, y + (1./2)*(k2 * h))\n",
        "        k4 = f(x + h, y + (k3 * h))\n",
        "        y = y + (h/6)*(k1 + 2 * k2 + 2 * k3 + k4)\n",
        "        x = x + h\n",
        "        res.loc[i+1]=[i+1, x, y, k1, k2, k3, k4, '']\n",
        "    print(res)\n",
        "\n",
        "RungeKutta4(0, 1, 1, 5)\n",
        "\n",
        "#aprox y(1) = 2.118013779018466\n"
      ],
      "execution_count": 7,
      "outputs": [
        {
          "output_type": "stream",
          "text": [
            "     #    x         y        k1        k2        k3        k4    h\n",
            "0  0.0  0.0  1.000000  0.000000  0.000000  0.000000  0.000000  0.2\n",
            "1  1.0  0.2  1.252935  1.000000  1.275587  1.275587  1.485703     \n",
            "2  2.0  0.4  1.571238  1.485703  1.608663  1.608663  1.628746     \n",
            "3  3.0  0.6  1.875110  1.628746  1.537797  1.537797  1.336205     \n",
            "4  4.0  0.8  2.078949  1.336205  1.033177  1.033177  0.646264     \n",
            "5  5.0  1.0  2.118014  0.646264  0.200178  0.200178 -0.275027     \n"
          ],
          "name": "stdout"
        }
      ]
    }
  ]
}